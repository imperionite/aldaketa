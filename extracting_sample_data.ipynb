{
 "cells": [
  {
   "cell_type": "markdown",
   "id": "40772dd5-6b51-40f2-9c9f-a768f063c8e5",
   "metadata": {},
   "source": [
    "# Extracting Sample Data from the Synthetic Dataset\n",
    "\n",
    "Related to Homework: Smart Contract Data Storage, this is a sample script to simulate a few entries from the dataset to send to the  contract."
   ]
  },
  {
   "cell_type": "code",
   "execution_count": 3,
   "id": "1e9f1df1-6fac-4021-9b7c-b250f3871be3",
   "metadata": {},
   "outputs": [],
   "source": [
    "import pandas as pd\n",
    "import re"
   ]
  },
  {
   "cell_type": "code",
   "execution_count": 4,
   "id": "670fc2bc-2c04-442e-ab08-673a71fb5a69",
   "metadata": {},
   "outputs": [],
   "source": [
    "# Load your dataset\n",
    "df = pd.read_csv(\"synthetic_dataset.csv\", parse_dates=[\"Timestamp\"])"
   ]
  },
  {
   "cell_type": "code",
   "execution_count": 5,
   "id": "ef526cb7-b605-49ed-8413-473d20bb893d",
   "metadata": {},
   "outputs": [
    {
     "name": "stdout",
     "output_type": "stream",
     "text": [
      "storeData(\"SENSOR_Temperature_°C\", \"Temperature (°C)\", 7); // 2016-08-03 11:49:00\n",
      "storeData(\"SENSOR_Conductivity_µS_cm\", \"Conductivity (µS/cm)\", 198); // 2016-08-03 11:49:00\n",
      "storeData(\"SENSOR_Turbidity_NTU\", \"Turbidity (NTU)\", 0); // 2016-08-03 11:49:00\n",
      "storeData(\"SENSOR_ClO2_mg_L\", \"ClO2 (mg/L)\", 0); // 2016-08-03 11:49:00\n",
      "storeData(\"SENSOR_pH\", \"pH\", 8); // 2016-08-03 11:49:00\n",
      "storeData(\"SENSOR_Temperature_°C\", \"Temperature (°C)\", 9); // 2016-08-03 11:50:00\n",
      "storeData(\"SENSOR_Conductivity_µS_cm\", \"Conductivity (µS/cm)\", 208); // 2016-08-03 11:50:00\n",
      "storeData(\"SENSOR_Turbidity_NTU\", \"Turbidity (NTU)\", 0); // 2016-08-03 11:50:00\n",
      "storeData(\"SENSOR_ClO2_mg_L\", \"ClO2 (mg/L)\", 0); // 2016-08-03 11:50:00\n",
      "storeData(\"SENSOR_pH\", \"pH\", 8); // 2016-08-03 11:50:00\n"
     ]
    }
   ],
   "source": [
    "# Select relevant columns\n",
    "selected_columns = ['Timestamp', 'Temperature (°C)', 'Conductivity (µS/cm)', 'Turbidity (NTU)', 'ClO2 MS1 (mg/L)', 'pH']\n",
    "\n",
    "# Rename ClO2 MS1 (mg/L) column for consistency\n",
    "df_selected = df[selected_columns].rename(columns={'ClO2 MS1 (mg/L)': 'ClO2 (mg/L)'})\n",
    "\n",
    "# Replace all NaN values with 0\n",
    "df_selected = df_selected.fillna(0)\n",
    "\n",
    "# Extract a small sample for testing (top 2 rows)\n",
    "sample_data = df_selected.head(2)\n",
    "\n",
    "# Function to sanitize column names for Solidity identifiers\n",
    "def sanitize_column_name(name):\n",
    "    # Replace spaces, parentheses, slashes with underscore\n",
    "    sanitized = re.sub(r'[ \\(\\)/]', '_', name)\n",
    "    # Replace multiple underscores with a single underscore\n",
    "    sanitized = re.sub(r'_+', '_', sanitized)\n",
    "    # Trim leading/trailing underscores\n",
    "    return sanitized.strip('_')\n",
    "\n",
    "# Function to generate Solidity storeData() calls from DataFrame\n",
    "def generate_solidity_calls(df):\n",
    "    calls = []\n",
    "    for _, row in df.iterrows():\n",
    "        timestamp = row['Timestamp']\n",
    "        for col in df.columns[1:]:  # Skip the Timestamp column\n",
    "            try:\n",
    "                value = float(row[col])\n",
    "            except (ValueError, TypeError):\n",
    "                value = 0  # fallback if value is not convertible\n",
    "\n",
    "            # Convert float to int for Solidity int256 (adjust if decimals needed)\n",
    "            int_value = int(value)\n",
    "\n",
    "            sensor_id = f\"SENSOR_{sanitize_column_name(col)}\"\n",
    "            data_type = col\n",
    "\n",
    "            # Generate Solidity call with a comment including timestamp\n",
    "            call = f'storeData(\"{sensor_id}\", \"{data_type}\", {int_value}); // {timestamp}'\n",
    "            calls.append(call)\n",
    "    return calls\n",
    "\n",
    "# Generate the Solidity storeData() calls for sample data\n",
    "calls = generate_solidity_calls(sample_data)\n",
    "\n",
    "# Print the generated calls\n",
    "for call in calls:\n",
    "    print(call)"
   ]
  },
  {
   "cell_type": "code",
   "execution_count": null,
   "id": "7bdd8b36-6b56-49fe-b4ae-3986d3302523",
   "metadata": {},
   "outputs": [],
   "source": []
  }
 ],
 "metadata": {
  "kernelspec": {
   "display_name": "Python 3.9.12 (venv)",
   "language": "python",
   "name": "myenv"
  },
  "language_info": {
   "codemirror_mode": {
    "name": "ipython",
    "version": 3
   },
   "file_extension": ".py",
   "mimetype": "text/x-python",
   "name": "python",
   "nbconvert_exporter": "python",
   "pygments_lexer": "ipython3",
   "version": "3.9.12"
  }
 },
 "nbformat": 4,
 "nbformat_minor": 5
}
