{
 "cells": [
  {
   "cell_type": "markdown",
   "id": "40772dd5-6b51-40f2-9c9f-a768f063c8e5",
   "metadata": {},
   "source": [
    "# Extracting Sample Data from the Synthetic Dataset\n",
    "\n",
    "Related to Homework: Smart Contract Data Storage, this is a sample script to simulate a few entries from the dataset to send to the  contract."
   ]
  },
  {
   "cell_type": "code",
   "execution_count": 1,
   "id": "854c7099-5b54-4a79-b891-a4c686fc04c7",
   "metadata": {},
   "outputs": [],
   "source": [
    "import pandas as pd"
   ]
  },
  {
   "cell_type": "code",
   "execution_count": 4,
   "id": "1e9f1df1-6fac-4021-9b7c-b250f3871be3",
   "metadata": {},
   "outputs": [
    {
     "name": "stdout",
     "output_type": "stream",
     "text": [
      "storeData(\"SENSOR_ENV001\", \"Temperature\", \"9.39 °C\")\n",
      "storeData(\"SENSOR_ENV001\", \"Spectral Absorption (1/m)\", \"4.12\")\n",
      "storeData(\"SENSOR_ENV001\", \"Temperature\", \"7.40 °C\")\n",
      "storeData(\"SENSOR_ENV001\", \"Spectral Absorption (1/m)\", \"4.17\")\n",
      "storeData(\"SENSOR_ENV001\", \"Temperature\", \"6.50 °C\")\n",
      "storeData(\"SENSOR_ENV001\", \"Spectral Absorption (1/m)\", \"3.94\")\n",
      "storeData(\"SENSOR_ENV001\", \"Temperature\", \"7.94 °C\")\n",
      "storeData(\"SENSOR_ENV001\", \"Spectral Absorption (1/m)\", \"3.69\")\n",
      "storeData(\"SENSOR_ENV001\", \"Temperature\", \"8.32 °C\")\n",
      "storeData(\"SENSOR_ENV001\", \"Spectral Absorption (1/m)\", \"3.71\")\n"
     ]
    }
   ],
   "source": [
    "# Load your dataset\n",
    "df = pd.read_csv(\"synthetic_dataset.csv\", parse_dates=[\"Timestamp\"])\n",
    "\n",
    "# Drop rows with missing values for selected fields\n",
    "df_clean = df[[\"Timestamp\", \"Temperature (°C)\", \"Spectral Absorption (1/m)\"]].dropna()\n",
    "\n",
    "# Format a few records\n",
    "sample_data = []\n",
    "for _, row in df_clean.head(5).iterrows():\n",
    "    # Example 1: Temperature\n",
    "    sample_data.append({\n",
    "        \"sensorID\": \"SENSOR_ENV001\",\n",
    "        \"dataType\": \"Temperature\",\n",
    "        \"dataValue\": f\"{row['Temperature (°C)']:.2f} °C\"\n",
    "    })\n",
    "    # Example 2: Spectral Absorption\n",
    "    sample_data.append({\n",
    "        \"sensorID\": \"SENSOR_ENV001\",\n",
    "        \"dataType\": \"Spectral Absorption (1/m)\",\n",
    "        \"dataValue\": f\"{row['Spectral Absorption (1/m)']:.2f}\"\n",
    "    })\n",
    "\n",
    "for data in sample_data:\n",
    "    print(f'storeData(\"{data[\"sensorID\"]}\", \"{data[\"dataType\"]}\", \"{data[\"dataValue\"]}\")')"
   ]
  },
  {
   "cell_type": "code",
   "execution_count": null,
   "id": "670fc2bc-2c04-442e-ab08-673a71fb5a69",
   "metadata": {},
   "outputs": [],
   "source": []
  }
 ],
 "metadata": {
  "kernelspec": {
   "display_name": "Python 3.9.12 (venv)",
   "language": "python",
   "name": "myenv"
  },
  "language_info": {
   "codemirror_mode": {
    "name": "ipython",
    "version": 3
   },
   "file_extension": ".py",
   "mimetype": "text/x-python",
   "name": "python",
   "nbconvert_exporter": "python",
   "pygments_lexer": "ipython3",
   "version": "3.9.12"
  }
 },
 "nbformat": 4,
 "nbformat_minor": 5
}
