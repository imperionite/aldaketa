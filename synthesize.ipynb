{
 "cells": [
  {
   "cell_type": "markdown",
   "id": "a5fc9787",
   "metadata": {},
   "source": [
    "# Homework: IoT Data Simulation"
   ]
  },
  {
   "cell_type": "code",
   "execution_count": 45,
   "id": "a5ef2db9-445b-4c6f-90a4-b14d14342978",
   "metadata": {},
   "outputs": [],
   "source": [
    "import pandas as pd\n",
    "import numpy as np\n",
    "from faker import Faker\n",
    "from datetime import timedelta\n",
    "from scipy import stats\n",
    "import matplotlib.pyplot as plt\n",
    "import seaborn as sns"
   ]
  },
  {
   "cell_type": "code",
   "execution_count": 46,
   "id": "34a8df76-590e-491c-98b0-08e931a64bdd",
   "metadata": {},
   "outputs": [],
   "source": [
    "# Load datasets\n",
    "df1 = pd.read_csv('gecco_2018.csv')\n",
    "df2 = pd.read_csv('gecco_2019.csv')"
   ]
  },
  {
   "cell_type": "code",
   "execution_count": 47,
   "id": "40667456-828c-4aad-9c11-a6488be1b26b",
   "metadata": {},
   "outputs": [
    {
     "data": {
      "text/plain": [
       "Unnamed: 0                 0\n",
       "Timestamp                  0\n",
       "Temperature (°C)        1044\n",
       "ClO2 MS1 (mg/L)         1045\n",
       "pH                      1044\n",
       "Redox (mV)              1044\n",
       "Conductivity (µS/cm)    1044\n",
       "Turbidity (NTU)         1044\n",
       "ClO2 MS2 (mg/L)         1044\n",
       "Flow Rate 1 (m3/h)      1044\n",
       "Flow Rate 2 (m3/h)      1044\n",
       "Event                      0\n",
       "dtype: int64"
      ]
     },
     "execution_count": 47,
     "metadata": {},
     "output_type": "execute_result"
    }
   ],
   "source": [
    "# Check for missing or null values in each column\n",
    "df1.isnull().sum()"
   ]
  },
  {
   "cell_type": "code",
   "execution_count": 48,
   "id": "03e38d94-ac08-46b5-9253-9ed9e4ee6302",
   "metadata": {},
   "outputs": [],
   "source": [
    "# Drop the Unnamed: 0 column \n",
    "df1 = df1.drop(columns=['Unnamed: 0'])"
   ]
  },
  {
   "cell_type": "code",
   "execution_count": 49,
   "id": "3a5b4059-c2bc-4550-be56-0160783191cb",
   "metadata": {},
   "outputs": [
    {
     "name": "stdout",
     "output_type": "stream",
     "text": [
      "139566\n"
     ]
    }
   ],
   "source": [
    "# Check total numbers of rows\n",
    "print(df1.shape[0])"
   ]
  },
  {
   "cell_type": "code",
   "execution_count": 50,
   "id": "efa3e1ca-c358-42e1-9df2-ca99cdbb04d3",
   "metadata": {},
   "outputs": [],
   "source": [
    "# Drop rows with missing values\n",
    "df1.dropna(inplace=True)  "
   ]
  },
  {
   "cell_type": "code",
   "execution_count": 51,
   "id": "db7d00a1-bce5-432c-96ee-6d907dae40ab",
   "metadata": {},
   "outputs": [
    {
     "name": "stdout",
     "output_type": "stream",
     "text": [
      "138521\n"
     ]
    }
   ],
   "source": [
    "print(df1.shape[0])"
   ]
  },
  {
   "cell_type": "code",
   "execution_count": 52,
   "id": "3457614f-c9b5-48df-9e36-07de13e68b7b",
   "metadata": {},
   "outputs": [
    {
     "data": {
      "text/plain": [
       "Timestamp               0\n",
       "Temperature (°C)        0\n",
       "ClO2 MS1 (mg/L)         0\n",
       "pH                      0\n",
       "Redox (mV)              0\n",
       "Conductivity (µS/cm)    0\n",
       "Turbidity (NTU)         0\n",
       "ClO2 MS2 (mg/L)         0\n",
       "Flow Rate 1 (m3/h)      0\n",
       "Flow Rate 2 (m3/h)      0\n",
       "Event                   0\n",
       "dtype: int64"
      ]
     },
     "execution_count": 52,
     "metadata": {},
     "output_type": "execute_result"
    }
   ],
   "source": [
    "df1.isnull().sum()"
   ]
  },
  {
   "cell_type": "code",
   "execution_count": 53,
   "id": "63d1114d-96fe-4e43-8382-2359ab8fea57",
   "metadata": {},
   "outputs": [],
   "source": [
    "# Handle duplicates\n",
    "df1.drop_duplicates(inplace=True)"
   ]
  },
  {
   "cell_type": "code",
   "execution_count": 54,
   "id": "4c680e8b-1de1-40e9-a1d8-d1068cb10025",
   "metadata": {},
   "outputs": [
    {
     "data": {
      "text/plain": [
       "np.int64(0)"
      ]
     },
     "execution_count": 54,
     "metadata": {},
     "output_type": "execute_result"
    }
   ],
   "source": [
    "df1.duplicated().sum()"
   ]
  },
  {
   "cell_type": "code",
   "execution_count": 55,
   "id": "19657051-9a12-4d39-960d-06a2a77296ed",
   "metadata": {},
   "outputs": [],
   "source": [
    "# Remove outliers\n",
    "df1 = df1[(np.abs(stats.zscore(df1.select_dtypes(include=[np.number]))) < 3).all(axis=1)]"
   ]
  },
  {
   "cell_type": "code",
   "execution_count": 56,
   "id": "a2e6b1d2-59d4-4e00-866c-cad83ec3cd7e",
   "metadata": {},
   "outputs": [
    {
     "name": "stdout",
     "output_type": "stream",
     "text": [
      "133417\n"
     ]
    }
   ],
   "source": [
    "print(df1.shape[0])"
   ]
  },
  {
   "cell_type": "code",
   "execution_count": null,
   "id": "dd198fe7-e285-44e7-b5f6-a7ffd1c59b15",
   "metadata": {},
   "outputs": [],
   "source": []
  },
  {
   "cell_type": "code",
   "execution_count": 57,
   "id": "e197ad76-bd1e-40f2-be99-8694f4aa16e7",
   "metadata": {},
   "outputs": [
    {
     "data": {
      "text/plain": [
       "Unnamed: 0                     0\n",
       "Timestamp                      0\n",
       "Temperature (°C)             214\n",
       "pH                           208\n",
       "Conductivity (S/m)           204\n",
       "Turbidity (FNU)              205\n",
       "Spectral Absorption (1/m)    200\n",
       "Pulse Frequency (Hz)         211\n",
       "Event                          0\n",
       "dtype: int64"
      ]
     },
     "execution_count": 57,
     "metadata": {},
     "output_type": "execute_result"
    }
   ],
   "source": [
    "# Check for missing or null values in each column\n",
    "df2.isnull().sum()"
   ]
  },
  {
   "cell_type": "code",
   "execution_count": 58,
   "id": "3838aa37-24f4-4d81-b7a0-f2ceb5f7f783",
   "metadata": {},
   "outputs": [
    {
     "data": {
      "text/plain": [
       "np.int64(0)"
      ]
     },
     "execution_count": 58,
     "metadata": {},
     "output_type": "execute_result"
    }
   ],
   "source": [
    "df2.duplicated().sum()"
   ]
  },
  {
   "cell_type": "code",
   "execution_count": 59,
   "id": "10474428-aa38-45da-8771-cebcdbe7fe11",
   "metadata": {},
   "outputs": [],
   "source": [
    "# Drop the Unnamed: 0 column \n",
    "df2 = df2.drop(columns=['Unnamed: 0'])"
   ]
  },
  {
   "cell_type": "code",
   "execution_count": 60,
   "id": "1c4838a7-2b8a-48fb-a961-3de45b3ab36a",
   "metadata": {},
   "outputs": [],
   "source": [
    "# # Drop rows with missing values\n",
    "df2.dropna(inplace=True)  "
   ]
  },
  {
   "cell_type": "code",
   "execution_count": 61,
   "id": "7323cc97-2dc9-47c1-b6ce-af4d26f08911",
   "metadata": {},
   "outputs": [],
   "source": [
    "# Remove outliers\n",
    "df2 = df2[(np.abs(stats.zscore(df2.select_dtypes(include=[np.number]))) < 3).all(axis=1)]"
   ]
  },
  {
   "cell_type": "code",
   "execution_count": 62,
   "id": "4ae0f25c-1457-4fd9-a99c-6407e4d3b1ef",
   "metadata": {},
   "outputs": [
    {
     "data": {
      "text/plain": [
       "Timestamp                    0\n",
       "Temperature (°C)             0\n",
       "pH                           0\n",
       "Conductivity (S/m)           0\n",
       "Turbidity (FNU)              0\n",
       "Spectral Absorption (1/m)    0\n",
       "Pulse Frequency (Hz)         0\n",
       "Event                        0\n",
       "dtype: int64"
      ]
     },
     "execution_count": 62,
     "metadata": {},
     "output_type": "execute_result"
    }
   ],
   "source": [
    "df2.isnull().sum()"
   ]
  },
  {
   "cell_type": "code",
   "execution_count": 63,
   "id": "04ce073b-ef72-457b-977b-144906633529",
   "metadata": {},
   "outputs": [
    {
     "name": "stdout",
     "output_type": "stream",
     "text": [
      "131043\n"
     ]
    }
   ],
   "source": [
    "# Check total numbers of columns\n",
    "print(df2.shape[0])"
   ]
  },
  {
   "cell_type": "code",
   "execution_count": 64,
   "id": "337c3458-d117-4461-93a9-cd0918841442",
   "metadata": {},
   "outputs": [
    {
     "name": "stdout",
     "output_type": "stream",
     "text": [
      "<class 'pandas.core.frame.DataFrame'>\n",
      "Index: 133417 entries, 0 to 139565\n",
      "Data columns (total 11 columns):\n",
      " #   Column                Non-Null Count   Dtype  \n",
      "---  ------                --------------   -----  \n",
      " 0   Timestamp             133417 non-null  object \n",
      " 1   Temperature (°C)      133417 non-null  float64\n",
      " 2   ClO2 MS1 (mg/L)       133417 non-null  float64\n",
      " 3   pH                    133417 non-null  float64\n",
      " 4   Redox (mV)            133417 non-null  float64\n",
      " 5   Conductivity (µS/cm)  133417 non-null  float64\n",
      " 6   Turbidity (NTU)       133417 non-null  float64\n",
      " 7   ClO2 MS2 (mg/L)       133417 non-null  float64\n",
      " 8   Flow Rate 1 (m3/h)    133417 non-null  float64\n",
      " 9   Flow Rate 2 (m3/h)    133417 non-null  float64\n",
      " 10  Event                 133417 non-null  bool   \n",
      "dtypes: bool(1), float64(9), object(1)\n",
      "memory usage: 11.3+ MB\n"
     ]
    }
   ],
   "source": [
    "df1.info()"
   ]
  },
  {
   "cell_type": "code",
   "execution_count": 65,
   "id": "827b2f88-7f30-486a-afb6-10d8c61d1643",
   "metadata": {},
   "outputs": [
    {
     "name": "stdout",
     "output_type": "stream",
     "text": [
      "<class 'pandas.core.frame.DataFrame'>\n",
      "Index: 131043 entries, 0 to 132479\n",
      "Data columns (total 8 columns):\n",
      " #   Column                     Non-Null Count   Dtype  \n",
      "---  ------                     --------------   -----  \n",
      " 0   Timestamp                  131043 non-null  object \n",
      " 1   Temperature (°C)           131043 non-null  float64\n",
      " 2   pH                         131043 non-null  float64\n",
      " 3   Conductivity (S/m)         131043 non-null  float64\n",
      " 4   Turbidity (FNU)            131043 non-null  float64\n",
      " 5   Spectral Absorption (1/m)  131043 non-null  float64\n",
      " 6   Pulse Frequency (Hz)       131043 non-null  float64\n",
      " 7   Event                      131043 non-null  bool   \n",
      "dtypes: bool(1), float64(6), object(1)\n",
      "memory usage: 8.1+ MB\n"
     ]
    }
   ],
   "source": [
    "df2.info()"
   ]
  },
  {
   "cell_type": "code",
   "execution_count": 66,
   "id": "7794f42c-a599-4dce-a82c-29ebabb64662",
   "metadata": {
    "scrolled": true
   },
   "outputs": [
    {
     "data": {
      "text/html": [
       "<div>\n",
       "<style scoped>\n",
       "    .dataframe tbody tr th:only-of-type {\n",
       "        vertical-align: middle;\n",
       "    }\n",
       "\n",
       "    .dataframe tbody tr th {\n",
       "        vertical-align: top;\n",
       "    }\n",
       "\n",
       "    .dataframe thead th {\n",
       "        text-align: right;\n",
       "    }\n",
       "</style>\n",
       "<table border=\"1\" class=\"dataframe\">\n",
       "  <thead>\n",
       "    <tr style=\"text-align: right;\">\n",
       "      <th></th>\n",
       "      <th>Timestamp</th>\n",
       "      <th>Temperature (°C)</th>\n",
       "      <th>ClO2 MS1 (mg/L)</th>\n",
       "      <th>pH</th>\n",
       "      <th>Redox (mV)</th>\n",
       "      <th>Conductivity (µS/cm)</th>\n",
       "      <th>Turbidity (NTU)</th>\n",
       "      <th>ClO2 MS2 (mg/L)</th>\n",
       "      <th>Flow Rate 1 (m3/h)</th>\n",
       "      <th>Flow Rate 2 (m3/h)</th>\n",
       "      <th>Event</th>\n",
       "    </tr>\n",
       "  </thead>\n",
       "  <tbody>\n",
       "    <tr>\n",
       "      <th>139561</th>\n",
       "      <td>2016-11-08 08:50:00</td>\n",
       "      <td>10.1</td>\n",
       "      <td>0.16</td>\n",
       "      <td>8.41</td>\n",
       "      <td>762.0</td>\n",
       "      <td>189.0</td>\n",
       "      <td>0.023</td>\n",
       "      <td>0.105</td>\n",
       "      <td>1799.0</td>\n",
       "      <td>924.0</td>\n",
       "      <td>False</td>\n",
       "    </tr>\n",
       "    <tr>\n",
       "      <th>139562</th>\n",
       "      <td>2016-11-08 08:51:00</td>\n",
       "      <td>10.1</td>\n",
       "      <td>0.17</td>\n",
       "      <td>8.41</td>\n",
       "      <td>762.0</td>\n",
       "      <td>190.0</td>\n",
       "      <td>0.022</td>\n",
       "      <td>0.106</td>\n",
       "      <td>1835.0</td>\n",
       "      <td>927.0</td>\n",
       "      <td>False</td>\n",
       "    </tr>\n",
       "    <tr>\n",
       "      <th>139563</th>\n",
       "      <td>2016-11-08 08:52:00</td>\n",
       "      <td>10.1</td>\n",
       "      <td>0.17</td>\n",
       "      <td>8.41</td>\n",
       "      <td>762.0</td>\n",
       "      <td>190.0</td>\n",
       "      <td>0.022</td>\n",
       "      <td>0.106</td>\n",
       "      <td>1807.0</td>\n",
       "      <td>924.0</td>\n",
       "      <td>False</td>\n",
       "    </tr>\n",
       "    <tr>\n",
       "      <th>139564</th>\n",
       "      <td>2016-11-08 08:53:00</td>\n",
       "      <td>10.1</td>\n",
       "      <td>0.17</td>\n",
       "      <td>8.41</td>\n",
       "      <td>762.0</td>\n",
       "      <td>190.0</td>\n",
       "      <td>0.022</td>\n",
       "      <td>0.106</td>\n",
       "      <td>1799.0</td>\n",
       "      <td>930.0</td>\n",
       "      <td>False</td>\n",
       "    </tr>\n",
       "    <tr>\n",
       "      <th>139565</th>\n",
       "      <td>2016-11-08 08:54:00</td>\n",
       "      <td>10.1</td>\n",
       "      <td>0.17</td>\n",
       "      <td>8.41</td>\n",
       "      <td>762.0</td>\n",
       "      <td>189.0</td>\n",
       "      <td>0.022</td>\n",
       "      <td>0.106</td>\n",
       "      <td>1817.0</td>\n",
       "      <td>925.0</td>\n",
       "      <td>False</td>\n",
       "    </tr>\n",
       "  </tbody>\n",
       "</table>\n",
       "</div>"
      ],
      "text/plain": [
       "                  Timestamp  Temperature (°C)  ClO2 MS1 (mg/L)    pH  \\\n",
       "139561  2016-11-08 08:50:00              10.1             0.16  8.41   \n",
       "139562  2016-11-08 08:51:00              10.1             0.17  8.41   \n",
       "139563  2016-11-08 08:52:00              10.1             0.17  8.41   \n",
       "139564  2016-11-08 08:53:00              10.1             0.17  8.41   \n",
       "139565  2016-11-08 08:54:00              10.1             0.17  8.41   \n",
       "\n",
       "        Redox (mV)  Conductivity (µS/cm)  Turbidity (NTU)  ClO2 MS2 (mg/L)  \\\n",
       "139561       762.0                 189.0            0.023            0.105   \n",
       "139562       762.0                 190.0            0.022            0.106   \n",
       "139563       762.0                 190.0            0.022            0.106   \n",
       "139564       762.0                 190.0            0.022            0.106   \n",
       "139565       762.0                 189.0            0.022            0.106   \n",
       "\n",
       "        Flow Rate 1 (m3/h)  Flow Rate 2 (m3/h)  Event  \n",
       "139561              1799.0               924.0  False  \n",
       "139562              1835.0               927.0  False  \n",
       "139563              1807.0               924.0  False  \n",
       "139564              1799.0               930.0  False  \n",
       "139565              1817.0               925.0  False  "
      ]
     },
     "execution_count": 66,
     "metadata": {},
     "output_type": "execute_result"
    }
   ],
   "source": [
    "df1.tail()"
   ]
  },
  {
   "cell_type": "code",
   "execution_count": 67,
   "id": "ccaeb680-c84d-4761-a8e2-3e9c663f5c56",
   "metadata": {},
   "outputs": [
    {
     "data": {
      "text/html": [
       "<div>\n",
       "<style scoped>\n",
       "    .dataframe tbody tr th:only-of-type {\n",
       "        vertical-align: middle;\n",
       "    }\n",
       "\n",
       "    .dataframe tbody tr th {\n",
       "        vertical-align: top;\n",
       "    }\n",
       "\n",
       "    .dataframe thead th {\n",
       "        text-align: right;\n",
       "    }\n",
       "</style>\n",
       "<table border=\"1\" class=\"dataframe\">\n",
       "  <thead>\n",
       "    <tr style=\"text-align: right;\">\n",
       "      <th></th>\n",
       "      <th>Timestamp</th>\n",
       "      <th>Temperature (°C)</th>\n",
       "      <th>pH</th>\n",
       "      <th>Conductivity (S/m)</th>\n",
       "      <th>Turbidity (FNU)</th>\n",
       "      <th>Spectral Absorption (1/m)</th>\n",
       "      <th>Pulse Frequency (Hz)</th>\n",
       "      <th>Event</th>\n",
       "    </tr>\n",
       "  </thead>\n",
       "  <tbody>\n",
       "    <tr>\n",
       "      <th>132475</th>\n",
       "      <td>2017-09-30 23:55:00</td>\n",
       "      <td>10.3</td>\n",
       "      <td>8.56593</td>\n",
       "      <td>0.020724</td>\n",
       "      <td>0.126518</td>\n",
       "      <td>4.53577</td>\n",
       "      <td>56.4686</td>\n",
       "      <td>False</td>\n",
       "    </tr>\n",
       "    <tr>\n",
       "      <th>132476</th>\n",
       "      <td>2017-09-30 23:56:00</td>\n",
       "      <td>10.3</td>\n",
       "      <td>8.56593</td>\n",
       "      <td>0.020727</td>\n",
       "      <td>0.126575</td>\n",
       "      <td>4.53008</td>\n",
       "      <td>56.3567</td>\n",
       "      <td>False</td>\n",
       "    </tr>\n",
       "    <tr>\n",
       "      <th>132477</th>\n",
       "      <td>2017-09-30 23:57:00</td>\n",
       "      <td>10.3</td>\n",
       "      <td>8.56593</td>\n",
       "      <td>0.020723</td>\n",
       "      <td>0.126512</td>\n",
       "      <td>4.53512</td>\n",
       "      <td>55.0477</td>\n",
       "      <td>False</td>\n",
       "    </tr>\n",
       "    <tr>\n",
       "      <th>132478</th>\n",
       "      <td>2017-09-30 23:58:00</td>\n",
       "      <td>10.3</td>\n",
       "      <td>8.56228</td>\n",
       "      <td>0.020720</td>\n",
       "      <td>0.126477</td>\n",
       "      <td>4.54084</td>\n",
       "      <td>55.4052</td>\n",
       "      <td>False</td>\n",
       "    </tr>\n",
       "    <tr>\n",
       "      <th>132479</th>\n",
       "      <td>2017-09-30 23:59:00</td>\n",
       "      <td>10.3</td>\n",
       "      <td>8.56410</td>\n",
       "      <td>0.020723</td>\n",
       "      <td>0.126566</td>\n",
       "      <td>4.53445</td>\n",
       "      <td>54.9886</td>\n",
       "      <td>False</td>\n",
       "    </tr>\n",
       "  </tbody>\n",
       "</table>\n",
       "</div>"
      ],
      "text/plain": [
       "                  Timestamp  Temperature (°C)       pH  Conductivity (S/m)  \\\n",
       "132475  2017-09-30 23:55:00              10.3  8.56593            0.020724   \n",
       "132476  2017-09-30 23:56:00              10.3  8.56593            0.020727   \n",
       "132477  2017-09-30 23:57:00              10.3  8.56593            0.020723   \n",
       "132478  2017-09-30 23:58:00              10.3  8.56228            0.020720   \n",
       "132479  2017-09-30 23:59:00              10.3  8.56410            0.020723   \n",
       "\n",
       "        Turbidity (FNU)  Spectral Absorption (1/m)  Pulse Frequency (Hz)  \\\n",
       "132475         0.126518                    4.53577               56.4686   \n",
       "132476         0.126575                    4.53008               56.3567   \n",
       "132477         0.126512                    4.53512               55.0477   \n",
       "132478         0.126477                    4.54084               55.4052   \n",
       "132479         0.126566                    4.53445               54.9886   \n",
       "\n",
       "        Event  \n",
       "132475  False  \n",
       "132476  False  \n",
       "132477  False  \n",
       "132478  False  \n",
       "132479  False  "
      ]
     },
     "execution_count": 67,
     "metadata": {},
     "output_type": "execute_result"
    }
   ],
   "source": [
    "df2.tail()"
   ]
  },
  {
   "cell_type": "code",
   "execution_count": 68,
   "id": "efa1e6e5-8db3-4097-982a-964ca6909972",
   "metadata": {},
   "outputs": [],
   "source": [
    "# Standardize Timestamp column: Convert to datetime\n",
    "df1['Timestamp'] = pd.to_datetime(df1['Timestamp'])\n",
    "df2['Timestamp'] = pd.to_datetime(df2['Timestamp'])"
   ]
  },
  {
   "cell_type": "code",
   "execution_count": 69,
   "id": "bd53c894-7014-40b9-8a48-58df6c313baf",
   "metadata": {},
   "outputs": [],
   "source": [
    "# Harmonize units and rename columns\n",
    "df2['Conductivity (µS/cm)'] = df2['Conductivity (S/m)'] * 1e4\n",
    "df2.drop(columns=['Conductivity (S/m)'], inplace=True)"
   ]
  },
  {
   "cell_type": "code",
   "execution_count": 70,
   "id": "27f88e84-63fa-47b5-b8f0-9b42b8bc0876",
   "metadata": {},
   "outputs": [],
   "source": [
    "# Unify column names\n",
    "df2.rename(columns={\n",
    "    'Turbidity (FNU)': 'Turbidity (NTU)',\n",
    "    # 'Spectral Absorption (1/m)': 'Spectral Absorption',\n",
    "    # 'Pulse Frequency (Hz)': 'Pulse Frequency'\n",
    "}, inplace=True)\n"
   ]
  },
  {
   "cell_type": "code",
   "execution_count": 71,
   "id": "32431869-7438-4efd-9e2b-49247b4f7471",
   "metadata": {},
   "outputs": [
    {
     "data": {
      "text/html": [
       "<div>\n",
       "<style scoped>\n",
       "    .dataframe tbody tr th:only-of-type {\n",
       "        vertical-align: middle;\n",
       "    }\n",
       "\n",
       "    .dataframe tbody tr th {\n",
       "        vertical-align: top;\n",
       "    }\n",
       "\n",
       "    .dataframe thead th {\n",
       "        text-align: right;\n",
       "    }\n",
       "</style>\n",
       "<table border=\"1\" class=\"dataframe\">\n",
       "  <thead>\n",
       "    <tr style=\"text-align: right;\">\n",
       "      <th></th>\n",
       "      <th>Timestamp</th>\n",
       "      <th>Temperature (°C)</th>\n",
       "      <th>ClO2 MS1 (mg/L)</th>\n",
       "      <th>pH</th>\n",
       "      <th>Redox (mV)</th>\n",
       "      <th>Conductivity (µS/cm)</th>\n",
       "      <th>Turbidity (NTU)</th>\n",
       "      <th>ClO2 MS2 (mg/L)</th>\n",
       "      <th>Flow Rate 1 (m3/h)</th>\n",
       "      <th>Flow Rate 2 (m3/h)</th>\n",
       "      <th>Event</th>\n",
       "    </tr>\n",
       "  </thead>\n",
       "  <tbody>\n",
       "    <tr>\n",
       "      <th>139561</th>\n",
       "      <td>2016-11-08 08:50:00</td>\n",
       "      <td>10.1</td>\n",
       "      <td>0.16</td>\n",
       "      <td>8.41</td>\n",
       "      <td>762.0</td>\n",
       "      <td>189.0</td>\n",
       "      <td>0.023</td>\n",
       "      <td>0.105</td>\n",
       "      <td>1799.0</td>\n",
       "      <td>924.0</td>\n",
       "      <td>False</td>\n",
       "    </tr>\n",
       "    <tr>\n",
       "      <th>139562</th>\n",
       "      <td>2016-11-08 08:51:00</td>\n",
       "      <td>10.1</td>\n",
       "      <td>0.17</td>\n",
       "      <td>8.41</td>\n",
       "      <td>762.0</td>\n",
       "      <td>190.0</td>\n",
       "      <td>0.022</td>\n",
       "      <td>0.106</td>\n",
       "      <td>1835.0</td>\n",
       "      <td>927.0</td>\n",
       "      <td>False</td>\n",
       "    </tr>\n",
       "    <tr>\n",
       "      <th>139563</th>\n",
       "      <td>2016-11-08 08:52:00</td>\n",
       "      <td>10.1</td>\n",
       "      <td>0.17</td>\n",
       "      <td>8.41</td>\n",
       "      <td>762.0</td>\n",
       "      <td>190.0</td>\n",
       "      <td>0.022</td>\n",
       "      <td>0.106</td>\n",
       "      <td>1807.0</td>\n",
       "      <td>924.0</td>\n",
       "      <td>False</td>\n",
       "    </tr>\n",
       "    <tr>\n",
       "      <th>139564</th>\n",
       "      <td>2016-11-08 08:53:00</td>\n",
       "      <td>10.1</td>\n",
       "      <td>0.17</td>\n",
       "      <td>8.41</td>\n",
       "      <td>762.0</td>\n",
       "      <td>190.0</td>\n",
       "      <td>0.022</td>\n",
       "      <td>0.106</td>\n",
       "      <td>1799.0</td>\n",
       "      <td>930.0</td>\n",
       "      <td>False</td>\n",
       "    </tr>\n",
       "    <tr>\n",
       "      <th>139565</th>\n",
       "      <td>2016-11-08 08:54:00</td>\n",
       "      <td>10.1</td>\n",
       "      <td>0.17</td>\n",
       "      <td>8.41</td>\n",
       "      <td>762.0</td>\n",
       "      <td>189.0</td>\n",
       "      <td>0.022</td>\n",
       "      <td>0.106</td>\n",
       "      <td>1817.0</td>\n",
       "      <td>925.0</td>\n",
       "      <td>False</td>\n",
       "    </tr>\n",
       "  </tbody>\n",
       "</table>\n",
       "</div>"
      ],
      "text/plain": [
       "                 Timestamp  Temperature (°C)  ClO2 MS1 (mg/L)    pH  \\\n",
       "139561 2016-11-08 08:50:00              10.1             0.16  8.41   \n",
       "139562 2016-11-08 08:51:00              10.1             0.17  8.41   \n",
       "139563 2016-11-08 08:52:00              10.1             0.17  8.41   \n",
       "139564 2016-11-08 08:53:00              10.1             0.17  8.41   \n",
       "139565 2016-11-08 08:54:00              10.1             0.17  8.41   \n",
       "\n",
       "        Redox (mV)  Conductivity (µS/cm)  Turbidity (NTU)  ClO2 MS2 (mg/L)  \\\n",
       "139561       762.0                 189.0            0.023            0.105   \n",
       "139562       762.0                 190.0            0.022            0.106   \n",
       "139563       762.0                 190.0            0.022            0.106   \n",
       "139564       762.0                 190.0            0.022            0.106   \n",
       "139565       762.0                 189.0            0.022            0.106   \n",
       "\n",
       "        Flow Rate 1 (m3/h)  Flow Rate 2 (m3/h)  Event  \n",
       "139561              1799.0               924.0  False  \n",
       "139562              1835.0               927.0  False  \n",
       "139563              1807.0               924.0  False  \n",
       "139564              1799.0               930.0  False  \n",
       "139565              1817.0               925.0  False  "
      ]
     },
     "execution_count": 71,
     "metadata": {},
     "output_type": "execute_result"
    }
   ],
   "source": [
    "df1.tail()"
   ]
  },
  {
   "cell_type": "code",
   "execution_count": 72,
   "id": "d8ea694a-19db-4fbf-954a-e6ef7ec63642",
   "metadata": {},
   "outputs": [],
   "source": [
    "# Concatenation: Append rows from both datasets\n",
    "df1['Source'] = 'GECCO 2018'\n",
    "df2['Source'] = 'GECCO 2019'\n",
    "\n",
    "df = pd.concat([df1, df2], axis=0, ignore_index=True)"
   ]
  },
  {
   "cell_type": "code",
   "execution_count": 73,
   "id": "10581726-65b2-47c5-9fd8-8413c6491ae5",
   "metadata": {},
   "outputs": [
    {
     "data": {
      "text/html": [
       "<div>\n",
       "<style scoped>\n",
       "    .dataframe tbody tr th:only-of-type {\n",
       "        vertical-align: middle;\n",
       "    }\n",
       "\n",
       "    .dataframe tbody tr th {\n",
       "        vertical-align: top;\n",
       "    }\n",
       "\n",
       "    .dataframe thead th {\n",
       "        text-align: right;\n",
       "    }\n",
       "</style>\n",
       "<table border=\"1\" class=\"dataframe\">\n",
       "  <thead>\n",
       "    <tr style=\"text-align: right;\">\n",
       "      <th></th>\n",
       "      <th>Timestamp</th>\n",
       "      <th>Temperature (°C)</th>\n",
       "      <th>ClO2 MS1 (mg/L)</th>\n",
       "      <th>pH</th>\n",
       "      <th>Redox (mV)</th>\n",
       "      <th>Conductivity (µS/cm)</th>\n",
       "      <th>Turbidity (NTU)</th>\n",
       "      <th>ClO2 MS2 (mg/L)</th>\n",
       "      <th>Flow Rate 1 (m3/h)</th>\n",
       "      <th>Flow Rate 2 (m3/h)</th>\n",
       "      <th>Event</th>\n",
       "      <th>Source</th>\n",
       "      <th>Spectral Absorption (1/m)</th>\n",
       "      <th>Pulse Frequency (Hz)</th>\n",
       "    </tr>\n",
       "  </thead>\n",
       "  <tbody>\n",
       "    <tr>\n",
       "      <th>0</th>\n",
       "      <td>2016-08-03 11:49:00</td>\n",
       "      <td>6.5</td>\n",
       "      <td>0.17</td>\n",
       "      <td>8.36</td>\n",
       "      <td>749.0</td>\n",
       "      <td>211.0</td>\n",
       "      <td>0.011</td>\n",
       "      <td>0.118</td>\n",
       "      <td>1677.0</td>\n",
       "      <td>695.0</td>\n",
       "      <td>False</td>\n",
       "      <td>GECCO 2018</td>\n",
       "      <td>NaN</td>\n",
       "      <td>NaN</td>\n",
       "    </tr>\n",
       "    <tr>\n",
       "      <th>1</th>\n",
       "      <td>2016-08-03 11:50:00</td>\n",
       "      <td>6.5</td>\n",
       "      <td>0.17</td>\n",
       "      <td>8.36</td>\n",
       "      <td>749.0</td>\n",
       "      <td>211.0</td>\n",
       "      <td>0.011</td>\n",
       "      <td>0.118</td>\n",
       "      <td>1561.0</td>\n",
       "      <td>696.0</td>\n",
       "      <td>False</td>\n",
       "      <td>GECCO 2018</td>\n",
       "      <td>NaN</td>\n",
       "      <td>NaN</td>\n",
       "    </tr>\n",
       "    <tr>\n",
       "      <th>2</th>\n",
       "      <td>2016-08-03 11:51:00</td>\n",
       "      <td>6.5</td>\n",
       "      <td>0.17</td>\n",
       "      <td>8.35</td>\n",
       "      <td>749.0</td>\n",
       "      <td>211.0</td>\n",
       "      <td>0.011</td>\n",
       "      <td>0.117</td>\n",
       "      <td>1581.0</td>\n",
       "      <td>696.0</td>\n",
       "      <td>False</td>\n",
       "      <td>GECCO 2018</td>\n",
       "      <td>NaN</td>\n",
       "      <td>NaN</td>\n",
       "    </tr>\n",
       "    <tr>\n",
       "      <th>3</th>\n",
       "      <td>2016-08-03 11:52:00</td>\n",
       "      <td>6.5</td>\n",
       "      <td>0.17</td>\n",
       "      <td>8.35</td>\n",
       "      <td>749.0</td>\n",
       "      <td>211.0</td>\n",
       "      <td>0.011</td>\n",
       "      <td>0.118</td>\n",
       "      <td>1579.0</td>\n",
       "      <td>693.0</td>\n",
       "      <td>False</td>\n",
       "      <td>GECCO 2018</td>\n",
       "      <td>NaN</td>\n",
       "      <td>NaN</td>\n",
       "    </tr>\n",
       "    <tr>\n",
       "      <th>4</th>\n",
       "      <td>2016-08-03 11:53:00</td>\n",
       "      <td>6.5</td>\n",
       "      <td>0.17</td>\n",
       "      <td>8.35</td>\n",
       "      <td>749.0</td>\n",
       "      <td>211.0</td>\n",
       "      <td>0.011</td>\n",
       "      <td>0.118</td>\n",
       "      <td>1567.0</td>\n",
       "      <td>689.0</td>\n",
       "      <td>False</td>\n",
       "      <td>GECCO 2018</td>\n",
       "      <td>NaN</td>\n",
       "      <td>NaN</td>\n",
       "    </tr>\n",
       "  </tbody>\n",
       "</table>\n",
       "</div>"
      ],
      "text/plain": [
       "            Timestamp  Temperature (°C)  ClO2 MS1 (mg/L)    pH  Redox (mV)  \\\n",
       "0 2016-08-03 11:49:00               6.5             0.17  8.36       749.0   \n",
       "1 2016-08-03 11:50:00               6.5             0.17  8.36       749.0   \n",
       "2 2016-08-03 11:51:00               6.5             0.17  8.35       749.0   \n",
       "3 2016-08-03 11:52:00               6.5             0.17  8.35       749.0   \n",
       "4 2016-08-03 11:53:00               6.5             0.17  8.35       749.0   \n",
       "\n",
       "   Conductivity (µS/cm)  Turbidity (NTU)  ClO2 MS2 (mg/L)  Flow Rate 1 (m3/h)  \\\n",
       "0                 211.0            0.011            0.118              1677.0   \n",
       "1                 211.0            0.011            0.118              1561.0   \n",
       "2                 211.0            0.011            0.117              1581.0   \n",
       "3                 211.0            0.011            0.118              1579.0   \n",
       "4                 211.0            0.011            0.118              1567.0   \n",
       "\n",
       "   Flow Rate 2 (m3/h)  Event      Source  Spectral Absorption (1/m)  \\\n",
       "0               695.0  False  GECCO 2018                        NaN   \n",
       "1               696.0  False  GECCO 2018                        NaN   \n",
       "2               696.0  False  GECCO 2018                        NaN   \n",
       "3               693.0  False  GECCO 2018                        NaN   \n",
       "4               689.0  False  GECCO 2018                        NaN   \n",
       "\n",
       "   Pulse Frequency (Hz)  \n",
       "0                   NaN  \n",
       "1                   NaN  \n",
       "2                   NaN  \n",
       "3                   NaN  \n",
       "4                   NaN  "
      ]
     },
     "execution_count": 73,
     "metadata": {},
     "output_type": "execute_result"
    }
   ],
   "source": [
    "df.head()"
   ]
  },
  {
   "cell_type": "code",
   "execution_count": 74,
   "id": "1af201ba-dcac-420e-84b9-ed6d2c04c6a3",
   "metadata": {},
   "outputs": [
    {
     "name": "stdout",
     "output_type": "stream",
     "text": [
      "<class 'pandas.core.frame.DataFrame'>\n",
      "RangeIndex: 264460 entries, 0 to 264459\n",
      "Data columns (total 14 columns):\n",
      " #   Column                     Non-Null Count   Dtype         \n",
      "---  ------                     --------------   -----         \n",
      " 0   Timestamp                  264460 non-null  datetime64[ns]\n",
      " 1   Temperature (°C)           264460 non-null  float64       \n",
      " 2   ClO2 MS1 (mg/L)            133417 non-null  float64       \n",
      " 3   pH                         264460 non-null  float64       \n",
      " 4   Redox (mV)                 133417 non-null  float64       \n",
      " 5   Conductivity (µS/cm)       264460 non-null  float64       \n",
      " 6   Turbidity (NTU)            264460 non-null  float64       \n",
      " 7   ClO2 MS2 (mg/L)            133417 non-null  float64       \n",
      " 8   Flow Rate 1 (m3/h)         133417 non-null  float64       \n",
      " 9   Flow Rate 2 (m3/h)         133417 non-null  float64       \n",
      " 10  Event                      264460 non-null  bool          \n",
      " 11  Source                     264460 non-null  object        \n",
      " 12  Spectral Absorption (1/m)  131043 non-null  float64       \n",
      " 13  Pulse Frequency (Hz)       131043 non-null  float64       \n",
      "dtypes: bool(1), datetime64[ns](1), float64(11), object(1)\n",
      "memory usage: 26.5+ MB\n"
     ]
    }
   ],
   "source": [
    "df.info()"
   ]
  },
  {
   "cell_type": "code",
   "execution_count": 75,
   "id": "67fa9353-6271-459e-9aee-9fbb79912fb5",
   "metadata": {},
   "outputs": [
    {
     "data": {
      "text/html": [
       "<div>\n",
       "<style scoped>\n",
       "    .dataframe tbody tr th:only-of-type {\n",
       "        vertical-align: middle;\n",
       "    }\n",
       "\n",
       "    .dataframe tbody tr th {\n",
       "        vertical-align: top;\n",
       "    }\n",
       "\n",
       "    .dataframe thead th {\n",
       "        text-align: right;\n",
       "    }\n",
       "</style>\n",
       "<table border=\"1\" class=\"dataframe\">\n",
       "  <thead>\n",
       "    <tr style=\"text-align: right;\">\n",
       "      <th></th>\n",
       "      <th>Timestamp</th>\n",
       "      <th>Temperature (°C)</th>\n",
       "      <th>ClO2 MS1 (mg/L)</th>\n",
       "      <th>pH</th>\n",
       "      <th>Redox (mV)</th>\n",
       "      <th>Conductivity (µS/cm)</th>\n",
       "      <th>Turbidity (NTU)</th>\n",
       "      <th>ClO2 MS2 (mg/L)</th>\n",
       "      <th>Flow Rate 1 (m3/h)</th>\n",
       "      <th>Flow Rate 2 (m3/h)</th>\n",
       "      <th>Event</th>\n",
       "      <th>Source</th>\n",
       "      <th>Spectral Absorption (1/m)</th>\n",
       "      <th>Pulse Frequency (Hz)</th>\n",
       "    </tr>\n",
       "  </thead>\n",
       "  <tbody>\n",
       "    <tr>\n",
       "      <th>0</th>\n",
       "      <td>2016-08-03 11:49:00</td>\n",
       "      <td>6.5</td>\n",
       "      <td>0.17</td>\n",
       "      <td>8.36</td>\n",
       "      <td>749.0</td>\n",
       "      <td>211.0</td>\n",
       "      <td>0.011</td>\n",
       "      <td>0.118</td>\n",
       "      <td>1677.0</td>\n",
       "      <td>695.0</td>\n",
       "      <td>False</td>\n",
       "      <td>GECCO 2018</td>\n",
       "      <td>NaN</td>\n",
       "      <td>NaN</td>\n",
       "    </tr>\n",
       "    <tr>\n",
       "      <th>1</th>\n",
       "      <td>2016-08-03 11:50:00</td>\n",
       "      <td>6.5</td>\n",
       "      <td>0.17</td>\n",
       "      <td>8.36</td>\n",
       "      <td>749.0</td>\n",
       "      <td>211.0</td>\n",
       "      <td>0.011</td>\n",
       "      <td>0.118</td>\n",
       "      <td>1561.0</td>\n",
       "      <td>696.0</td>\n",
       "      <td>False</td>\n",
       "      <td>GECCO 2018</td>\n",
       "      <td>NaN</td>\n",
       "      <td>NaN</td>\n",
       "    </tr>\n",
       "    <tr>\n",
       "      <th>2</th>\n",
       "      <td>2016-08-03 11:51:00</td>\n",
       "      <td>6.5</td>\n",
       "      <td>0.17</td>\n",
       "      <td>8.35</td>\n",
       "      <td>749.0</td>\n",
       "      <td>211.0</td>\n",
       "      <td>0.011</td>\n",
       "      <td>0.117</td>\n",
       "      <td>1581.0</td>\n",
       "      <td>696.0</td>\n",
       "      <td>False</td>\n",
       "      <td>GECCO 2018</td>\n",
       "      <td>NaN</td>\n",
       "      <td>NaN</td>\n",
       "    </tr>\n",
       "    <tr>\n",
       "      <th>3</th>\n",
       "      <td>2016-08-03 11:52:00</td>\n",
       "      <td>6.5</td>\n",
       "      <td>0.17</td>\n",
       "      <td>8.35</td>\n",
       "      <td>749.0</td>\n",
       "      <td>211.0</td>\n",
       "      <td>0.011</td>\n",
       "      <td>0.118</td>\n",
       "      <td>1579.0</td>\n",
       "      <td>693.0</td>\n",
       "      <td>False</td>\n",
       "      <td>GECCO 2018</td>\n",
       "      <td>NaN</td>\n",
       "      <td>NaN</td>\n",
       "    </tr>\n",
       "    <tr>\n",
       "      <th>4</th>\n",
       "      <td>2016-08-03 11:53:00</td>\n",
       "      <td>6.5</td>\n",
       "      <td>0.17</td>\n",
       "      <td>8.35</td>\n",
       "      <td>749.0</td>\n",
       "      <td>211.0</td>\n",
       "      <td>0.011</td>\n",
       "      <td>0.118</td>\n",
       "      <td>1567.0</td>\n",
       "      <td>689.0</td>\n",
       "      <td>False</td>\n",
       "      <td>GECCO 2018</td>\n",
       "      <td>NaN</td>\n",
       "      <td>NaN</td>\n",
       "    </tr>\n",
       "  </tbody>\n",
       "</table>\n",
       "</div>"
      ],
      "text/plain": [
       "            Timestamp  Temperature (°C)  ClO2 MS1 (mg/L)    pH  Redox (mV)  \\\n",
       "0 2016-08-03 11:49:00               6.5             0.17  8.36       749.0   \n",
       "1 2016-08-03 11:50:00               6.5             0.17  8.36       749.0   \n",
       "2 2016-08-03 11:51:00               6.5             0.17  8.35       749.0   \n",
       "3 2016-08-03 11:52:00               6.5             0.17  8.35       749.0   \n",
       "4 2016-08-03 11:53:00               6.5             0.17  8.35       749.0   \n",
       "\n",
       "   Conductivity (µS/cm)  Turbidity (NTU)  ClO2 MS2 (mg/L)  Flow Rate 1 (m3/h)  \\\n",
       "0                 211.0            0.011            0.118              1677.0   \n",
       "1                 211.0            0.011            0.118              1561.0   \n",
       "2                 211.0            0.011            0.117              1581.0   \n",
       "3                 211.0            0.011            0.118              1579.0   \n",
       "4                 211.0            0.011            0.118              1567.0   \n",
       "\n",
       "   Flow Rate 2 (m3/h)  Event      Source  Spectral Absorption (1/m)  \\\n",
       "0               695.0  False  GECCO 2018                        NaN   \n",
       "1               696.0  False  GECCO 2018                        NaN   \n",
       "2               696.0  False  GECCO 2018                        NaN   \n",
       "3               693.0  False  GECCO 2018                        NaN   \n",
       "4               689.0  False  GECCO 2018                        NaN   \n",
       "\n",
       "   Pulse Frequency (Hz)  \n",
       "0                   NaN  \n",
       "1                   NaN  \n",
       "2                   NaN  \n",
       "3                   NaN  \n",
       "4                   NaN  "
      ]
     },
     "execution_count": 75,
     "metadata": {},
     "output_type": "execute_result"
    }
   ],
   "source": [
    "df.head()"
   ]
  },
  {
   "cell_type": "code",
   "execution_count": 76,
   "id": "5c34ae40-a25b-4f73-bc72-55403d5ff690",
   "metadata": {},
   "outputs": [
    {
     "data": {
      "text/plain": [
       "Timestamp                         0\n",
       "Temperature (°C)                  0\n",
       "ClO2 MS1 (mg/L)              131043\n",
       "pH                                0\n",
       "Redox (mV)                   131043\n",
       "Conductivity (µS/cm)              0\n",
       "Turbidity (NTU)                   0\n",
       "ClO2 MS2 (mg/L)              131043\n",
       "Flow Rate 1 (m3/h)           131043\n",
       "Flow Rate 2 (m3/h)           131043\n",
       "Event                             0\n",
       "Source                            0\n",
       "Spectral Absorption (1/m)    133417\n",
       "Pulse Frequency (Hz)         133417\n",
       "dtype: int64"
      ]
     },
     "execution_count": 76,
     "metadata": {},
     "output_type": "execute_result"
    }
   ],
   "source": [
    "# Check for missing or null values in each column\n",
    "df.isnull().sum()"
   ]
  },
  {
   "cell_type": "code",
   "execution_count": 77,
   "id": "9a9d53f9-51a6-4a42-90be-9a5cc4bfacf0",
   "metadata": {},
   "outputs": [
    {
     "name": "stdout",
     "output_type": "stream",
     "text": [
      "<class 'pandas.core.frame.DataFrame'>\n",
      "RangeIndex: 264460 entries, 0 to 264459\n",
      "Data columns (total 14 columns):\n",
      " #   Column                     Non-Null Count   Dtype         \n",
      "---  ------                     --------------   -----         \n",
      " 0   Timestamp                  264460 non-null  datetime64[ns]\n",
      " 1   Temperature (°C)           264460 non-null  float64       \n",
      " 2   ClO2 MS1 (mg/L)            133417 non-null  float64       \n",
      " 3   pH                         264460 non-null  float64       \n",
      " 4   Redox (mV)                 133417 non-null  float64       \n",
      " 5   Conductivity (µS/cm)       264460 non-null  float64       \n",
      " 6   Turbidity (NTU)            264460 non-null  float64       \n",
      " 7   ClO2 MS2 (mg/L)            133417 non-null  float64       \n",
      " 8   Flow Rate 1 (m3/h)         133417 non-null  float64       \n",
      " 9   Flow Rate 2 (m3/h)         133417 non-null  float64       \n",
      " 10  Event                      264460 non-null  bool          \n",
      " 11  Source                     264460 non-null  object        \n",
      " 12  Spectral Absorption (1/m)  131043 non-null  float64       \n",
      " 13  Pulse Frequency (Hz)       131043 non-null  float64       \n",
      "dtypes: bool(1), datetime64[ns](1), float64(11), object(1)\n",
      "memory usage: 26.5+ MB\n"
     ]
    }
   ],
   "source": [
    "df.info()"
   ]
  },
  {
   "cell_type": "code",
   "execution_count": 78,
   "id": "57cdc6ba-a745-4ea3-92a9-1b05a5b23472",
   "metadata": {},
   "outputs": [],
   "source": [
    "# Synthetic Data Generation Based on the Concatenated Real-World Datasets\n",
    "\n",
    "# Number of synthetic samples to generate\n",
    "n_samples = 264460\n",
    "\n",
    "# Generators\n",
    "\n",
    "def synthesize_numeric(column):\n",
    "    mu = df[column].mean()\n",
    "    sigma = df[column].std()\n",
    "    return np.random.normal(mu, sigma, size=n_samples)\n",
    "\n",
    "def synthesize_categorical(column):\n",
    "    probs = df[column].value_counts(normalize=True)\n",
    "    return np.random.choice(probs.index, size=n_samples, p=probs.values)\n",
    "\n",
    "def synthesize_boolean(column):\n",
    "    prob_true = df[column].mean()\n",
    "    return np.random.choice([True, False], size=n_samples, p=[prob_true, 1 - prob_true])\n",
    "\n",
    "def synthesize_with_nans(column):\n",
    "    values = df[column].dropna().values\n",
    "    nan_ratio = df[column].isna().mean()\n",
    "    synthetic = np.random.choice(values, size=n_samples)\n",
    "    mask = np.random.rand(n_samples) < nan_ratio\n",
    "    synthetic[mask] = np.nan\n",
    "    return synthetic\n",
    "\n",
    "def synthesize_timestamp(start_time, freq='min'):\n",
    "    return pd.date_range(start=start_time, periods=n_samples, freq=freq)\n"
   ]
  },
  {
   "cell_type": "code",
   "execution_count": 79,
   "id": "e6f49c79-2e3e-4a3c-a2ec-7bd4d9a9cf27",
   "metadata": {},
   "outputs": [],
   "source": [
    "# Build synthetic df\n",
    "\n",
    "synthetic_df = pd.DataFrame({\n",
    "    'Timestamp': synthesize_timestamp(df['Timestamp'].min()),\n",
    "    'Temperature (°C)': synthesize_numeric('Temperature (°C)'),\n",
    "    'ClO2 MS1 (mg/L)': synthesize_with_nans('ClO2 MS1 (mg/L)'),\n",
    "    'pH': synthesize_numeric('pH'),\n",
    "    'Redox (mV)': synthesize_with_nans('Redox (mV)'),\n",
    "    'Conductivity (µS/cm)': synthesize_numeric('Conductivity (µS/cm)'),\n",
    "    'Turbidity (NTU)': synthesize_numeric('Turbidity (NTU)'),\n",
    "    'ClO2 MS2 (mg/L)': synthesize_with_nans('ClO2 MS2 (mg/L)'),\n",
    "    'Flow Rate 1 (m3/h)': synthesize_with_nans('Flow Rate 1 (m3/h)'),\n",
    "    'Flow Rate 2 (m3/h)': synthesize_with_nans('Flow Rate 2 (m3/h)'),\n",
    "    'Event': synthesize_boolean('Event'),\n",
    "    'Source': synthesize_categorical('Source'),\n",
    "    'Spectral Absorption (1/m)': synthesize_with_nans('Spectral Absorption (1/m)'),\n",
    "    'Pulse Frequency (Hz)': synthesize_with_nans('Pulse Frequency (Hz)'),\n",
    "})"
   ]
  },
  {
   "cell_type": "code",
   "execution_count": 80,
   "id": "2f63fee2-4baf-4110-a831-8c817bfdb955",
   "metadata": {},
   "outputs": [
    {
     "name": "stdout",
     "output_type": "stream",
     "text": [
      "\n",
      "=== Synthetic Data Preview ===\n",
      "            Timestamp  Temperature (°C)  ClO2 MS1 (mg/L)        pH  \\\n",
      "0 2016-08-03 11:49:00          7.526958              NaN  8.478351   \n",
      "1 2016-08-03 11:50:00          9.568174              NaN  8.349618   \n",
      "2 2016-08-03 11:51:00          8.596791              NaN  8.435896   \n",
      "3 2016-08-03 11:52:00          9.235192              NaN  8.484054   \n",
      "4 2016-08-03 11:53:00          8.589142              NaN  8.448766   \n",
      "\n",
      "   Redox (mV)  Conductivity (µS/cm)  Turbidity (NTU)  ClO2 MS2 (mg/L)  \\\n",
      "0         NaN            198.681455         0.077166              NaN   \n",
      "1       754.0            208.444549        -0.035594              NaN   \n",
      "2         NaN            207.724896         0.068773             0.12   \n",
      "3       752.0            208.578822         0.137576              NaN   \n",
      "4         NaN            211.421763         0.070074              NaN   \n",
      "\n",
      "   Flow Rate 1 (m3/h)  Flow Rate 2 (m3/h)  Event      Source  \\\n",
      "0              1347.0               846.0  False  GECCO 2019   \n",
      "1              1668.0                 NaN  False  GECCO 2018   \n",
      "2                 NaN               829.0  False  GECCO 2018   \n",
      "3              1309.0               960.0  False  GECCO 2019   \n",
      "4                 NaN                 NaN  False  GECCO 2019   \n",
      "\n",
      "   Spectral Absorption (1/m)  Pulse Frequency (Hz)  \n",
      "0                    3.60300               58.2549  \n",
      "1                    4.34584               56.3567  \n",
      "2                    4.04849                   NaN  \n",
      "3                    4.41927               64.1373  \n",
      "4                        NaN                   NaN  \n",
      "\n",
      "=== Synthetic Data Info ===\n",
      "<class 'pandas.core.frame.DataFrame'>\n",
      "RangeIndex: 264460 entries, 0 to 264459\n",
      "Data columns (total 14 columns):\n",
      " #   Column                     Non-Null Count   Dtype         \n",
      "---  ------                     --------------   -----         \n",
      " 0   Timestamp                  264460 non-null  datetime64[ns]\n",
      " 1   Temperature (°C)           264460 non-null  float64       \n",
      " 2   ClO2 MS1 (mg/L)            133474 non-null  float64       \n",
      " 3   pH                         264460 non-null  float64       \n",
      " 4   Redox (mV)                 133272 non-null  float64       \n",
      " 5   Conductivity (µS/cm)       264460 non-null  float64       \n",
      " 6   Turbidity (NTU)            264460 non-null  float64       \n",
      " 7   ClO2 MS2 (mg/L)            133318 non-null  float64       \n",
      " 8   Flow Rate 1 (m3/h)         133327 non-null  float64       \n",
      " 9   Flow Rate 2 (m3/h)         133410 non-null  float64       \n",
      " 10  Event                      264460 non-null  bool          \n",
      " 11  Source                     264460 non-null  object        \n",
      " 12  Spectral Absorption (1/m)  131379 non-null  float64       \n",
      " 13  Pulse Frequency (Hz)       130989 non-null  float64       \n",
      "dtypes: bool(1), datetime64[ns](1), float64(11), object(1)\n",
      "memory usage: 26.5+ MB\n",
      "None\n"
     ]
    }
   ],
   "source": [
    "# Basic validation\n",
    "print(\"\\n=== Synthetic Data Preview ===\")\n",
    "print(synthetic_df.head())\n",
    "\n",
    "print(\"\\n=== Synthetic Data Info ===\")\n",
    "print(synthetic_df.info())\n",
    "\n",
    "# Compare distributions\n",
    "def plot_distribution(real_col, synthetic_col, title=''):\n",
    "    plt.figure(figsize=(8, 4))\n",
    "    sns.kdeplot(df[real_col].dropna(), label='Real', fill=True)\n",
    "    sns.kdeplot(synthetic_df[synthetic_col].dropna(), label='Synthetic', fill=True)\n",
    "    plt.title(title or real_col)\n",
    "    plt.legend()\n",
    "    plt.show()"
   ]
  },
  {
   "cell_type": "code",
   "execution_count": 81,
   "id": "40378bef-4fff-45fa-8c02-4b70ea772cdf",
   "metadata": {},
   "outputs": [
    {
     "data": {
      "image/png": "[encoded data removed]",
      "text/plain": [
       "<Figure size 800x400 with 1 Axes>"
      ]
     },
     "metadata": {},
     "output_type": "display_data"
    },
    {
     "data": {
      "image/png": "[encoded data removed]",
      "text/plain": [
       "<Figure size 800x400 with 1 Axes>"
      ]
     },
     "metadata": {},
     "output_type": "display_data"
    },
    {
     "data": {
      "image/png": "[encoded data removed]",
      "text/plain": [
       "<Figure size 800x400 with 1 Axes>"
      ]
     },
     "metadata": {},
     "output_type": "display_data"
    }
   ],
   "source": [
    "# Compare a few key features\n",
    "plot_distribution('pH', 'pH', 'Distribution of pH')\n",
    "plot_distribution('Temperature (°C)', 'Temperature (°C)', 'Distribution of Temperature')\n",
    "plot_distribution('Conductivity (µS/cm)', 'Conductivity (µS/cm)', 'Distribution of Conductivity')"
   ]
  },
  {
   "cell_type": "code",
   "execution_count": null,
   "id": "376916c1-d074-41d8-909c-4801043f5286",
   "metadata": {},
   "outputs": [],
   "source": [
    "# === Automatically Compare All Numeric Columns ===\n",
    "\n",
    "# Select numeric columns from the real and synthetic DataFrames\n",
    "numeric_cols = df.select_dtypes(include=[np.number]).columns\n",
    "\n",
    "def plot_all_distributions(real_df, synthetic_df, columns):\n",
    "    import math\n",
    "    import seaborn as sns\n",
    "    import matplotlib.pyplot as plt\n",
    "\n",
    "    n_cols = 2\n",
    "    n_rows = math.ceil(len(columns) / n_cols)\n",
    "    plt.figure(figsize=(14, 4 * n_rows))\n",
    "\n",
    "    for idx, col in enumerate(columns):\n",
    "        plt.subplot(n_rows, n_cols, idx + 1)\n",
    "        try:\n",
    "            sns.kdeplot(real_df[col].dropna(), label='Real', fill=True)\n",
    "            sns.kdeplot(synthetic_df[col].dropna(), label='Synthetic', fill=True)\n",
    "        except:\n",
    "            # Fallback to hist if KDE fails\n",
    "            plt.hist(real_df[col].dropna(), bins=30, alpha=0.5, label='Real')\n",
    "            plt.hist(synthetic_df[col].dropna(), bins=30, alpha=0.5, label='Synthetic')\n",
    "        \n",
    "        plt.title(f'Distribution: {col}')\n",
    "        plt.legend()\n",
    "\n",
    "    plt.tight_layout()\n",
    "    plt.show()\n",
    "\n",
    "# Run the comparison\n",
    "plot_all_distributions(df, synthetic_df, numeric_cols)\n"
   ]
  },
  {
   "cell_type": "code",
   "execution_count": null,
   "id": "1e19bc87-668d-4868-8371-8bae886f19c2",
   "metadata": {},
   "outputs": [],
   "source": [
    "synthetic_df.head()"
   ]
  },
  {
   "cell_type": "code",
   "execution_count": null,
   "id": "89467566-4bb6-41ca-86e9-843363e5d543",
   "metadata": {},
   "outputs": [],
   "source": [
    "synthetic_df.info()"
   ]
  },
  {
   "cell_type": "code",
   "execution_count": null,
   "id": "8ab13be9-6061-4662-befe-1296ae85ecac",
   "metadata": {},
   "outputs": [],
   "source": [
    "synthetic_df.isnull().sum()"
   ]
  },
  {
   "cell_type": "code",
   "execution_count": null,
   "id": "11696d48-ea55-49b3-a025-b26298b50923",
   "metadata": {},
   "outputs": [],
   "source": [
    "synthetic_df.describe()"
   ]
  },
  {
   "cell_type": "code",
   "execution_count": null,
   "id": "6c8b2da3-1567-4631-afb9-858b2a0547ab",
   "metadata": {},
   "outputs": [],
   "source": [
    "# Plot comparison\n",
    "sns.kdeplot(df['pH'].dropna(), label='Real pH')\n",
    "sns.kdeplot(synthetic_df['pH'].dropna(), label='Synthetic pH')\n",
    "plt.legend()\n",
    "plt.show()"
   ]
  },
  {
   "cell_type": "code",
   "execution_count": null,
   "id": "53604b6d-3dce-4244-9825-4c32e324dd8c",
   "metadata": {},
   "outputs": [],
   "source": [
    "synthetic_df.to_csv('synthetic_dataset.csv', index=False)"
   ]
  }
 ],
 "metadata": {
  "kernelspec": {
   "display_name": "Python 3.9.12 (venv)",
   "language": "python",
   "name": "venv"
  },
  "language_info": {
   "codemirror_mode": {
    "name": "ipython",
    "version": 3
   },
   "file_extension": ".py",
   "mimetype": "text/x-python",
   "name": "python",
   "nbconvert_exporter": "python",
   "pygments_lexer": "ipython3",
   "version": "3.9.12"
  }
 },
 "nbformat": 4,
 "nbformat_minor": 5
}
